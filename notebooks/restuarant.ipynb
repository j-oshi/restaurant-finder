{
 "cells": [
  {
   "cell_type": "markdown",
   "id": "f198991b",
   "metadata": {},
   "source": [
    "## Get data from public api and dump in output.text\n",
    "\n",
    "### > curl -k <url> -o output.txt\n"
   ]
  },
  {
   "cell_type": "code",
   "execution_count": null,
   "id": "83e84e1d-9feb-4d17-b08c-947ca16d97c2",
   "metadata": {},
   "outputs": [],
   "source": [
    "import urllib.request\n",
    "import ssl\n",
    "import pandas as pd\n",
    "import json\n",
    "\n",
    "def fetch_restaurants_data(user_input, use_ssl_verification=True):\n",
    "    \"\"\"\n",
    "    Make an HTTP request to a URL with an option to disable SSL verification.\n",
    "    \n",
    "    :param url: The target URL to make the request.\n",
    "    :param use_ssl_verification: Whether to perform SSL certificate verification (default is True).\n",
    "    :return: The response data as a string or an error message.\n",
    "    \"\"\"\n",
    "    try:\n",
    "        if not use_ssl_verification:\n",
    "            # Create an SSL context that does not verify the certificate\n",
    "            ssl_context = ssl.create_default_context()\n",
    "            ssl_context.check_hostname = False\n",
    "            ssl_context.verify_mode = ssl.CERT_NONE\n",
    "        else:\n",
    "            ssl_context = None\n",
    "\n",
    "        url = f''\n",
    "\n",
    "        request = urllib.request.Request(url)\n",
    "        \n",
    "        with urllib.request.urlopen(request, context=ssl_context) as response:\n",
    "            if response.code == 200:\n",
    "                data = response.read()\n",
    "                return data.decode('utf-8')\n",
    "            else:\n",
    "                return None\n",
    "\n",
    "    except urllib.error.URLError as e:\n",
    "        print(f\"Error opening URL '{url}': {e}\")\n",
    "        print(\"Please try again later.\")\n",
    "        return None\n",
    "    \n",
    "def load_and_filter_restaurants(data):\n",
    "    try:\n",
    "        convert_pyton_dictonary = json.loads(data)\n",
    "        restaurant_data = pd.DataFrame(convert_pyton_dictonary['Restaurants'])\n",
    "\n",
    "        filtered_conditions = lambda row: row['RatingStars'] > 4.5 and row['NumberOfRatings'] >= 100 and row['DeliveryEtaMinutes']['RangeUpper'] <= 45 and any(item['Name'] == 'Pizza' for item in row['Cuisines'])\n",
    "        filtered_restaurants = restaurant_data[restaurant_data.apply(filtered_conditions, axis=1)]\n",
    "        filtered_array = filtered_restaurants.to_dict(orient=\"records\")\n",
    "        return filtered_array\n",
    "\n",
    "    except (FileNotFoundError, json.JSONDecodeError, KeyError) as e:\n",
    "        print(e)\n",
    "\n",
    "def filter_restaurant(user_input):\n",
    "    response = fetch_restaurants_data(user_input)  \n",
    "    if response is not None:\n",
    "        results = load_and_filter_restaurants(response)\n",
    "        return results\n",
    "    else: \n",
    "        return {'message': 'no restaurant found'} \n",
    "    \n",
    "filter_restaurant('tw12')\n"
   ]
  },
  {
   "cell_type": "code",
   "execution_count": 1,
   "id": "2f462800",
   "metadata": {},
   "outputs": [],
   "source": [
    "import webview\n",
    "\n",
    "webview.create_window('Restaurant finder!', '../app/gui/index.html')\n",
    "webview.start(http_server=True)"
   ]
  }
 ],
 "metadata": {
  "kernelspec": {
   "display_name": "Python 3 (ipykernel)",
   "language": "python",
   "name": "python3"
  },
  "language_info": {
   "codemirror_mode": {
    "name": "ipython",
    "version": 3
   },
   "file_extension": ".py",
   "mimetype": "text/x-python",
   "name": "python",
   "nbconvert_exporter": "python",
   "pygments_lexer": "ipython3",
   "version": "3.12.0"
  }
 },
 "nbformat": 4,
 "nbformat_minor": 5
}
